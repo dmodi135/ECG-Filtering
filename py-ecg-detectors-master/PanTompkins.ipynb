{
 "cells": [
  {
   "cell_type": "code",
   "execution_count": 6,
   "metadata": {
    "pycharm": {
     "name": "#%%\n"
    }
   },
   "outputs": [
    {
     "ename": "IndexError",
     "evalue": "index 0 is out of bounds for axis 0 with size 0",
     "output_type": "error",
     "traceback": [
      "\u001B[0;31m---------------------------------------------------------------------------\u001B[0m",
      "\u001B[0;31mIndexError\u001B[0m                                Traceback (most recent call last)",
      "\u001B[0;32m<ipython-input-6-b32757739168>\u001B[0m in \u001B[0;36m<module>\u001B[0;34m\u001B[0m\n\u001B[1;32m     25\u001B[0m \u001B[0;31m#r_peaks = detectors.christov_detector(unfiltered_ecg)\u001B[0m\u001B[0;34m\u001B[0m\u001B[0;34m\u001B[0m\u001B[0;34m\u001B[0m\u001B[0m\n\u001B[1;32m     26\u001B[0m \u001B[0;31m#r_peaks = detectors.hamilton_detector(unfiltered_ecg)\u001B[0m\u001B[0;34m\u001B[0m\u001B[0;34m\u001B[0m\u001B[0;34m\u001B[0m\u001B[0m\n\u001B[0;32m---> 27\u001B[0;31m \u001B[0mr_peaks\u001B[0m \u001B[0;34m=\u001B[0m \u001B[0mdetectors\u001B[0m\u001B[0;34m.\u001B[0m\u001B[0mpan_tompkins_detector\u001B[0m\u001B[0;34m(\u001B[0m\u001B[0munfiltered_ecg\u001B[0m\u001B[0;34m)\u001B[0m\u001B[0;34m\u001B[0m\u001B[0;34m\u001B[0m\u001B[0m\n\u001B[0m\u001B[1;32m     28\u001B[0m \u001B[0;34m\u001B[0m\u001B[0m\n\u001B[1;32m     29\u001B[0m \u001B[0;34m\u001B[0m\u001B[0m\n",
      "\u001B[0;32m~/Desktop/ECG-Filtering/py-ecg-detectors-master/ecgdetectors.py\u001B[0m in \u001B[0;36mpan_tompkins_detector\u001B[0;34m(self, unfiltered_ecg, MWA_name)\u001B[0m\n\u001B[1;32m    464\u001B[0m \u001B[0;34m\u001B[0m\u001B[0m\n\u001B[1;32m    465\u001B[0m         \u001B[0mN\u001B[0m \u001B[0;34m=\u001B[0m \u001B[0mint\u001B[0m\u001B[0;34m(\u001B[0m\u001B[0;36m0.12\u001B[0m\u001B[0;34m*\u001B[0m\u001B[0mself\u001B[0m\u001B[0;34m.\u001B[0m\u001B[0mfs\u001B[0m\u001B[0;34m)\u001B[0m\u001B[0;34m\u001B[0m\u001B[0;34m\u001B[0m\u001B[0m\n\u001B[0;32m--> 466\u001B[0;31m         \u001B[0mmwa\u001B[0m \u001B[0;34m=\u001B[0m \u001B[0mMWA_from_name\u001B[0m\u001B[0;34m(\u001B[0m\u001B[0mMWA_name\u001B[0m\u001B[0;34m)\u001B[0m\u001B[0;34m(\u001B[0m\u001B[0msquared\u001B[0m\u001B[0;34m,\u001B[0m \u001B[0mN\u001B[0m\u001B[0;34m)\u001B[0m\u001B[0;34m\u001B[0m\u001B[0;34m\u001B[0m\u001B[0m\n\u001B[0m\u001B[1;32m    467\u001B[0m         \u001B[0mmwa\u001B[0m\u001B[0;34m[\u001B[0m\u001B[0;34m:\u001B[0m\u001B[0mint\u001B[0m\u001B[0;34m(\u001B[0m\u001B[0;36m0.2\u001B[0m\u001B[0;34m*\u001B[0m\u001B[0mself\u001B[0m\u001B[0;34m.\u001B[0m\u001B[0mfs\u001B[0m\u001B[0;34m)\u001B[0m\u001B[0;34m]\u001B[0m \u001B[0;34m=\u001B[0m \u001B[0;36m0\u001B[0m\u001B[0;34m\u001B[0m\u001B[0;34m\u001B[0m\u001B[0m\n\u001B[1;32m    468\u001B[0m \u001B[0;34m\u001B[0m\u001B[0m\n",
      "\u001B[0;32m~/Desktop/ECG-Filtering/py-ecg-detectors-master/ecgdetectors.py\u001B[0m in \u001B[0;36mMWA_cumulative\u001B[0;34m(input_array, window_size)\u001B[0m\n\u001B[1;32m    539\u001B[0m \u001B[0;34m\u001B[0m\u001B[0m\n\u001B[1;32m    540\u001B[0m     \u001B[0;32mfor\u001B[0m \u001B[0mi\u001B[0m \u001B[0;32min\u001B[0m \u001B[0mrange\u001B[0m\u001B[0;34m(\u001B[0m\u001B[0;36m1\u001B[0m\u001B[0;34m,\u001B[0m\u001B[0mwindow_size\u001B[0m\u001B[0;34m)\u001B[0m\u001B[0;34m:\u001B[0m\u001B[0;34m\u001B[0m\u001B[0;34m\u001B[0m\u001B[0m\n\u001B[0;32m--> 541\u001B[0;31m         \u001B[0mret\u001B[0m\u001B[0;34m[\u001B[0m\u001B[0mi\u001B[0m\u001B[0;34m-\u001B[0m\u001B[0;36m1\u001B[0m\u001B[0;34m]\u001B[0m \u001B[0;34m=\u001B[0m \u001B[0mret\u001B[0m\u001B[0;34m[\u001B[0m\u001B[0mi\u001B[0m\u001B[0;34m-\u001B[0m\u001B[0;36m1\u001B[0m\u001B[0;34m]\u001B[0m \u001B[0;34m/\u001B[0m \u001B[0mi\u001B[0m\u001B[0;34m\u001B[0m\u001B[0;34m\u001B[0m\u001B[0m\n\u001B[0m\u001B[1;32m    542\u001B[0m     \u001B[0mret\u001B[0m\u001B[0;34m[\u001B[0m\u001B[0mwindow_size\u001B[0m \u001B[0;34m-\u001B[0m \u001B[0;36m1\u001B[0m\u001B[0;34m:\u001B[0m\u001B[0;34m]\u001B[0m  \u001B[0;34m=\u001B[0m \u001B[0mret\u001B[0m\u001B[0;34m[\u001B[0m\u001B[0mwindow_size\u001B[0m \u001B[0;34m-\u001B[0m \u001B[0;36m1\u001B[0m\u001B[0;34m:\u001B[0m\u001B[0;34m]\u001B[0m \u001B[0;34m/\u001B[0m \u001B[0mwindow_size\u001B[0m\u001B[0;34m\u001B[0m\u001B[0;34m\u001B[0m\u001B[0m\n\u001B[1;32m    543\u001B[0m \u001B[0;34m\u001B[0m\u001B[0m\n",
      "\u001B[0;31mIndexError\u001B[0m: index 0 is out of bounds for axis 0 with size 0"
     ]
    }
   ],
   "source": [
    "import numpy as np\n",
    "import matplotlib.pyplot as plt\n",
    "import pathlib\n",
    "from ecgdetectors import Detectors\n",
    "import os\n",
    "import wfdb\n",
    "\n",
    "#current_dir = pathlib.Path('example_data').resolve()\n",
    "\n",
    "#example_dir = current_dir.parent/'example_data'/'ECG.tsv'\n",
    "\n",
    "os.chdir(\"/Users/dhruvmodi/Desktop/ECG-Filtering/ecg-database/Person_01/\")\n",
    "signals, fields = wfdb.rdsamp('rec_1', channels=[0], sampfrom=0, sampto= 1000)\n",
    "\n",
    "#unfiltered_ecg_dat = np.loadtxt(example_dir)\n",
    "unfiltered_ecg = signals\n",
    "fs = 500\n",
    "\n",
    "detectors = Detectors(fs)\n",
    "\n",
    "#r_peaks = detectors.two_average_detector(unfiltered_ecg)\n",
    "#r_peaks = detectors.matched_filter_detector(unfiltered_ecg,\"templates/template_250hz.csv\")\n",
    "#r_peaks = detectors.swt_detector(unfiltered_ecg)\n",
    "#r_peaks = detectors.engzee_detector(unfiltered_ecg)\n",
    "#r_peaks = detectors.christov_detector(unfiltered_ecg)\n",
    "#r_peaks = detectors.hamilton_detector(unfiltered_ecg)\n",
    "r_peaks = detectors.pan_tompkins_detector(unfiltered_ecg)\n",
    "\n",
    "\n",
    "plt.figure()\n",
    "plt.plot(unfiltered_ecg)\n",
    "plt.plot(r_peaks, unfiltered_ecg[r_peaks], 'ro')\n",
    "plt.title('Detected R-peaks')\n",
    "plt.show()\n"
   ]
  },
  {
   "cell_type": "code",
   "execution_count": 5,
   "outputs": [],
   "source": [],
   "metadata": {
    "collapsed": false,
    "pycharm": {
     "name": "#%%\n"
    }
   }
  },
  {
   "cell_type": "code",
   "execution_count": null,
   "outputs": [],
   "source": [],
   "metadata": {
    "collapsed": false,
    "pycharm": {
     "name": "#%%\n"
    }
   }
  }
 ],
 "metadata": {
  "kernelspec": {
   "display_name": "Python 3",
   "language": "python",
   "name": "python3"
  },
  "language_info": {
   "codemirror_mode": {
    "name": "ipython",
    "version": 3
   },
   "file_extension": ".py",
   "mimetype": "text/x-python",
   "name": "python",
   "nbconvert_exporter": "python",
   "pygments_lexer": "ipython3",
   "version": "3.8.5"
  }
 },
 "nbformat": 4,
 "nbformat_minor": 4
}